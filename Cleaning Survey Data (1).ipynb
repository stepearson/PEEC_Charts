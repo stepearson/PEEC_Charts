{
 "cells": [
  {
   "cell_type": "code",
   "execution_count": 1,
   "id": "d8a97dcc-cefe-4a33-815b-a8be129c894a",
   "metadata": {},
   "outputs": [],
   "source": [
    "import pandas as pd"
   ]
  },
  {
   "cell_type": "code",
   "execution_count": 2,
   "id": "68792bf3-69f5-400d-bab9-817df57c02e0",
   "metadata": {},
   "outputs": [],
   "source": [
    "# Function to load and clean the data\n",
    "def clean_survey_data(file_path):\n",
    "    # Load the data from the Excel file\n",
    "    df = pd.read_excel(file_path)\n",
    "\n",
    "    # Renaming and formatting columns\n",
    "\n",
    "    # Convert 'First Response Date' to datetime and rename it to 'Date'\n",
    "    df['Date'] = pd.to_datetime(df['First Response Date'], dayfirst=True).dt.date\n",
    "\n",
    "    # Rename '2) Are you:' to 'Type' and adjust data\n",
    "    df['Type'] = df['2) Are you:'].str.extract(r'(\\w+) \\[').fillna('Unknown')\n",
    "\n",
    "    # Rename '1) Clinic:' to 'Unit' and adjust data\n",
    "    df['Unit'] = df['1) Clinic:'].str.extract(r'(\\w+) \\[')\n",
    "\n",
    "    # Ensure 'Average Score' is a float with two decimal places\n",
    "    df['Average Score'] = df['Average Score'].astype(float).round(2)\n",
    "\n",
    "    # Function to extract the initial integer from a string\n",
    "    extract_initial_integer = lambda s: int(s.split()[0]) if pd.notna(s) else None\n",
    "\n",
    "    # Renaming and extracting initial integer for specified columns\n",
    "    df['Listen'] = df['3) How much effort did we make to listen to what’s important to you?'].apply(extract_initial_integer)\n",
    "    df['Involve'] = df['4) Did we involve you in decisions about your (or your loved ones) care and treatment?'].apply(extract_initial_integer)\n",
    "    df['Accessibility'] = df['5) How accessible were we when you needed us?'].apply(extract_initial_integer)\n",
    "    df['Trust'] = df['6) Did you have confidence and trust in the critical care team treating you (or your loved one)?'].apply(extract_initial_integer)\n",
    "    df['Overall'] = df['9) Finally, thinking about your stay on critical care, overall, what was the experience of the care you received?'].apply(extract_initial_integer)\n",
    "\n",
    "    # Keeping qualitative questions columns (question 7, 8, & 10)\n",
    "    qualitative_columns = ['7) What (or who) made a difference to you today and why?',\n",
    "                           '8) What could we have done to make your day better?',\n",
    "                           '10) Do you have any other comments or feedback to help us improve?']\n",
    "\n",
    "    # Dropping all other columns except the specified ones\n",
    "    columns_to_keep = ['Date', 'Type', 'Unit', 'Average Score', 'Listen', 'Involve', 'Accessibility', 'Trust', 'Overall'] + qualitative_columns\n",
    "    cleaned_df = df[columns_to_keep]\n",
    "\n",
    "    # Removing records where 'Type' is 'Unknown' or 'Average Score' is NaN or 0\n",
    "    cleaned_df = cleaned_df[\n",
    "        (cleaned_df['Type'] != 'Unknown') & \n",
    "        (cleaned_df['Average Score'].notna()) & \n",
    "        (cleaned_df['Average Score'] != 0) &\n",
    "        (cleaned_df['Unit'].notna())\n",
    "    ]\n",
    "    \n",
    "    return cleaned_df"
   ]
  },
  {
   "cell_type": "code",
   "execution_count": 3,
   "id": "559e3813-a0a9-4897-b483-bf6ab0d9511c",
   "metadata": {},
   "outputs": [
    {
     "name": "stderr",
     "output_type": "stream",
     "text": [
      "/opt/conda/lib/python3.11/site-packages/openpyxl/styles/stylesheet.py:226: UserWarning: Workbook contains no default style, apply openpyxl's default\n",
      "  warn(\"Workbook contains no default style, apply openpyxl's default\")\n"
     ]
    },
    {
     "name": "stdout",
     "output_type": "stream",
     "text": [
      "Data cleaned and saved successfully.\n"
     ]
    }
   ],
   "source": [
    "# Define the path for the Excel file and the new CSV file\n",
    "excel_file_path = 'PatientSurvey.xlsx'\n",
    "csv_file_path = 'cleaned_survey.csv'\n",
    "\n",
    "# Clean the data\n",
    "cleaned_data = clean_survey_data(excel_file_path)\n",
    "\n",
    "# Save the cleaned data to a CSV file\n",
    "cleaned_data.to_csv(csv_file_path, index=False)\n",
    "\n",
    "print(\"Data cleaned and saved successfully.\")"
   ]
  },
  {
   "cell_type": "code",
   "execution_count": null,
   "id": "ad44c596-893e-4992-a478-078d2cfcdc8a",
   "metadata": {},
   "outputs": [],
   "source": []
  }
 ],
 "metadata": {
  "kernelspec": {
   "display_name": "Python 3 (ipykernel)",
   "language": "python",
   "name": "python3"
  },
  "language_info": {
   "codemirror_mode": {
    "name": "ipython",
    "version": 3
   },
   "file_extension": ".py",
   "mimetype": "text/x-python",
   "name": "python",
   "nbconvert_exporter": "python",
   "pygments_lexer": "ipython3",
   "version": "3.11.9"
  }
 },
 "nbformat": 4,
 "nbformat_minor": 5
}
