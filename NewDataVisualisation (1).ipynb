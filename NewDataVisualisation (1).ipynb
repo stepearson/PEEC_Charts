{
 "cells": [
  {
   "cell_type": "code",
   "execution_count": 1,
   "id": "503536cd-319b-4c06-8580-e6ae892f2b7f",
   "metadata": {},
   "outputs": [],
   "source": [
    "import pandas as pd\n",
    "import matplotlib.pyplot as plt\n",
    "import seaborn as sns\n",
    "import numpy as np\n",
    "import ipywidgets as widgets\n",
    "from ipywidgets import interact_manual\n",
    "from IPython.display import display"
   ]
  },
  {
   "cell_type": "code",
   "execution_count": 2,
   "id": "84e787b8-a504-44d0-bc23-4c15409d926e",
   "metadata": {},
   "outputs": [],
   "source": [
    "units = ['T03', 'T06', 'GWB', 'WMS']"
   ]
  },
  {
   "cell_type": "code",
   "execution_count": 3,
   "id": "fcbd164f-38ce-41e2-9843-280f81639ea0",
   "metadata": {},
   "outputs": [],
   "source": [
    "def plot_unit_histograms(df, units, types, ordered_questions, start_date, end_date):\n",
    "    # Convert start_date and end_date to datetime\n",
    "    start_date = pd.to_datetime(start_date)\n",
    "    end_date = pd.to_datetime(end_date)\n",
    "\n",
    "    # Original list of questions\n",
    "    questions = ['Listen', 'Involve', 'Accessibility', 'Trust', 'Overall']\n",
    "    \n",
    "    # Convert 'Date' column to datetime for comparison\n",
    "    df['Date'] = pd.to_datetime(df['Date'])\n",
    "\n",
    "    # Filter by date range\n",
    "    df = df[(df['Date'] >= start_date) & (df['Date'] <= end_date)]\n",
    "\n",
    "    # Filter by type if not 'All'\n",
    "    if types != 'All':\n",
    "        df = df[df['Type'].isin(types)]\n",
    "\n",
    "    # Prepare a DataFrame for counting responses per unit\n",
    "    unit_counts = df.groupby(['Unit', 'Type']).size().unstack(fill_value=0)\n",
    "\n",
    "    # Reordering the list to place 'Overall' at the end\n",
    "    # ordered_questions = [q for q in questions if q != 'Overall'] + ['Overall']\n",
    "    \n",
    "    # Melting the DataFrame for plotting\n",
    "    melted_df = df.melt(id_vars=['Type', 'Unit'], value_vars=questions, var_name='Question', value_name='Score')\n",
    "\n",
    "    # Reorder melted_df based on ordered_questions\n",
    "    melted_df['Question'] = pd.Categorical(melted_df['Question'], categories=ordered_questions, ordered=True)\n",
    "    melted_df = melted_df.sort_values('Question')\n",
    "    \n",
    "    # Grouping data by 'Unit', 'Type', 'Question' to calculate the average score\n",
    "    grouped_df = melted_df.groupby(['Unit', 'Type', 'Question'], observed=True).mean().reset_index()\n",
    "\n",
    "    # Define custom colours\n",
    "    custom_palette = {\n",
    "        'Patient': '#00727C',\n",
    "        'Visitor': '#9ED9D1'\n",
    "    }\n",
    "    \n",
    "    # Plotting for each unit\n",
    "    for unit in (units if units != 'All' else df['Unit'].unique()):\n",
    "        unit_df = grouped_df[grouped_df['Unit'] == unit]\n",
    "\n",
    "        plt.figure(figsize=(15, 8))\n",
    "        ax = sns.barplot(data=unit_df, x='Question', y='Score', hue='Type', errorbar=None, palette=custom_palette)\n",
    "\n",
    "        # Adjust legend to include counts specific to this unit\n",
    "        patient_count = unit_counts.loc[unit, 'Patient'] if 'Patient' in unit_counts.columns else 0\n",
    "        visitor_count = unit_counts.loc[unit, 'Visitor'] if 'Visitor' in unit_counts.columns else 0\n",
    "        handles, labels = ax.get_legend_handles_labels()\n",
    "        new_labels = []\n",
    "        for label in labels:\n",
    "            if label == 'Patient':\n",
    "                new_labels.append(f\"Patient (n = {patient_count})\")\n",
    "            elif label == 'Visitor':\n",
    "                new_labels.append(f\"Visitor (n = {visitor_count})\")\n",
    "        ax.legend(handles, new_labels, title='Type', bbox_to_anchor=(1.05, 1), loc='upper left', fontsize=14)\n",
    "        \n",
    "        # Annotating each bar with the average score\n",
    "        for bar in ax.patches:\n",
    "            height = bar.get_height()\n",
    "            # Displaying the score below the top of the bar\n",
    "            ax.annotate(f'{height:.2f}',\n",
    "                        xy=(bar.get_x() + bar.get_width() / 2, height),\n",
    "                        xytext=(0, -12),  # Offset to position the text below the top\n",
    "                        textcoords=\"offset points\",\n",
    "                        ha='center', va='bottom')\n",
    "\n",
    "        # Setting plot title and labels\n",
    "        plt.title(f'Average Scores by Question for {unit} (From {start_date.strftime(\"%Y-%m-%d\")} to {end_date.strftime(\"%Y-%m-%d\")})', fontsize=20)\n",
    "        plt.xlabel('Question', fontsize=12)\n",
    "        plt.ylabel('Average Score', fontsize=12)\n",
    "        plt.ylim(0.1, 5)\n",
    "        plt.xticks(rotation=45, ha='right')\n",
    "        plt.tight_layout()\n",
    "        plt.show()"
   ]
  },
  {
   "cell_type": "code",
   "execution_count": 4,
   "id": "f120bdd7-63ba-41b9-9b89-37434d0950f7",
   "metadata": {},
   "outputs": [],
   "source": [
    "def update_visualizations(selected_type, selected_unit, start_date, end_date):\n",
    "    # Check for valid date range\n",
    "    if not start_date or not end_date:\n",
    "        print(\"Please select both start and end dates.\")\n",
    "        return\n",
    "\n",
    "    df = pd.read_csv('cleaned_survey.csv')\n",
    "\n",
    "    # Original list of questions\n",
    "    questions = ['Listen', 'Involve', 'Accessibility', 'Trust', 'Overall']\n",
    "\n",
    "    # Reordering the list to place 'Overall' at the end\n",
    "    ordered_questions = [q for q in questions if q != 'Overall'] + ['Overall']\n",
    "\n",
    "    # Prepare and plot data, including filtering by type and unit\n",
    "    plot_unit_histograms(df, [selected_unit] if selected_unit != 'All' else ['T03', 'T06', 'GWB', 'WMS'],\n",
    "                         [selected_type] if selected_type != 'All' else ['Patient', 'Visitor'],\n",
    "                         ordered_questions, start_date, end_date)"
   ]
  },
  {
   "cell_type": "code",
   "execution_count": 5,
   "id": "abbc1c0a-e2cf-4f96-871c-884f00788f86",
   "metadata": {},
   "outputs": [
    {
     "data": {
      "application/vnd.jupyter.widget-view+json": {
       "model_id": "16d137c79b974fb0b2d7cd86b6df1002",
       "version_major": 2,
       "version_minor": 0
      },
      "text/plain": [
       "interactive(children=(Dropdown(description='Type:', index=2, options=('Patient', 'Visitor', 'All'), value='All…"
      ]
     },
     "metadata": {},
     "output_type": "display_data"
    },
    {
     "data": {
      "text/plain": [
       "<function __main__.update_visualizations(selected_type, selected_unit, start_date, end_date)>"
      ]
     },
     "execution_count": 5,
     "metadata": {},
     "output_type": "execute_result"
    }
   ],
   "source": [
    "# Dropdown for 'Type'\n",
    "type_dropdown = widgets.Dropdown(\n",
    "    options=['Patient', 'Visitor', 'All'],\n",
    "    value='All',\n",
    "    description='Type:',\n",
    ")\n",
    "\n",
    "# Dropdown for 'Unit'\n",
    "unit_dropdown = widgets.Dropdown(\n",
    "    options=['T03', 'T06', 'GWB', 'WMS', 'All'],\n",
    "    value='All',\n",
    "    description='Unit:',\n",
    ")\n",
    "\n",
    "# Start Date Picker\n",
    "start_date_picker = widgets.DatePicker(\n",
    "    description='Start Date',\n",
    "    disabled=False\n",
    ")\n",
    "\n",
    "# End Date Picker\n",
    "end_date_picker = widgets.DatePicker(\n",
    "    description='End Date',\n",
    "    disabled=False\n",
    ")\n",
    "\n",
    "# Display the widgets\n",
    "interact_manual(update_visualizations,\n",
    "                selected_type=widgets.Dropdown(options=['Patient', 'Visitor', 'All'], value='All', description='Type:'),\n",
    "                selected_unit=widgets.Dropdown(options=['T03', 'T06', 'GWB', 'WMS', 'All'], value='All', description='Unit:'),\n",
    "                start_date=widgets.DatePicker(description='Start Date'),\n",
    "                end_date=widgets.DatePicker(description='End Date'))"
   ]
  },
  {
   "cell_type": "code",
   "execution_count": null,
   "id": "b2d29d38-a317-4150-8bec-67c6cbc36a20",
   "metadata": {},
   "outputs": [],
   "source": []
  }
 ],
 "metadata": {
  "kernelspec": {
   "display_name": "Python 3 (ipykernel)",
   "language": "python",
   "name": "python3"
  },
  "language_info": {
   "codemirror_mode": {
    "name": "ipython",
    "version": 3
   },
   "file_extension": ".py",
   "mimetype": "text/x-python",
   "name": "python",
   "nbconvert_exporter": "python",
   "pygments_lexer": "ipython3",
   "version": "3.11.9"
  }
 },
 "nbformat": 4,
 "nbformat_minor": 5
}
