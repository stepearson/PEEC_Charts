{
 "cells": [
  {
   "cell_type": "code",
   "execution_count": 1,
   "id": "772548e9-318e-48ed-9d9e-69121c571a74",
   "metadata": {},
   "outputs": [],
   "source": [
    "import pandas as pd\n",
    "import matplotlib.pyplot as plt\n",
    "import matplotlib.dates as mdates\n",
    "import seaborn as sns\n",
    "import numpy as np\n",
    "import ipywidgets as widgets\n",
    "from ipywidgets import interact_manual"
   ]
  },
  {
   "cell_type": "code",
   "execution_count": 2,
   "id": "e1ccb8dc-02f4-42b5-b72c-49866cc0118d",
   "metadata": {},
   "outputs": [],
   "source": [
    "def calculate_record_counts(df, frequency):\n",
    "    \"\"\"\n",
    "    Calculate the number of records based on the given frequency.\n",
    "    Weekly frequency starts every Monday, Monthly on the 1st of each month, \n",
    "    and Quarterly starting from the 1st of January, April, July, and October.\n",
    "    \"\"\"\n",
    "    # Ensure 'Date' is a datetime type\n",
    "    df['Date'] = pd.to_datetime(df['Date'])\n",
    "\n",
    "    # Group by 'Unit', 'Type', and resample based on frequency, then calculate the count of records\n",
    "    if frequency == 'Weekly':\n",
    "        resampled_df = df.set_index('Date').groupby(['Unit', 'Type']).resample('W-MON').size().reset_index(name='Record Count')\n",
    "    elif frequency == 'Monthly':\n",
    "        resampled_df = df.set_index('Date').groupby(['Unit', 'Type']).resample('MS').size().reset_index(name='Record Count')\n",
    "    elif frequency == 'Quarterly':\n",
    "        resampled_df = df.set_index('Date').groupby(['Unit', 'Type']).resample('QS-JAN').size().reset_index(name='Record Count')\n",
    "\n",
    "    return resampled_df\n"
   ]
  },
  {
   "cell_type": "code",
   "execution_count": 3,
   "id": "c1d8c62e-aadc-45db-b53d-e2a434ad292c",
   "metadata": {},
   "outputs": [],
   "source": [
    "def plot_run_charts(df, frequency):\n",
    "    \"\"\"\n",
    "    Plot run charts for each unit and an overall combined chart.\n",
    "    The combined chart will display the average scores aggregated from all units for 'Patient' and 'Visitor'.\n",
    "    \"\"\"\n",
    "    # Calculate average scores based on frequency\n",
    "    record_counts = calculate_record_counts(df, frequency)\n",
    "\n",
    "    # List of unique units\n",
    "    units = df['Unit'].unique().tolist()\n",
    "\n",
    "    # Plot for each unit\n",
    "    for unit in units:\n",
    "        plot_individual_run_chart(unit, record_counts, frequency)\n",
    "\n",
    "    # Plot the combined chart\n",
    "    plot_combined_run_chart(record_counts, frequency)\n",
    "\n",
    "def plot_individual_run_chart(unit, record_counts, frequency):\n",
    "    \"\"\"\n",
    "    Plot run chart for an individual unit.\n",
    "    \"\"\"\n",
    "    plt.figure(figsize=(12, 6))\n",
    "    plt.title(f\"Run Chart for {unit} - {frequency} Frequency\")\n",
    "    \n",
    "    # Filtering data for the current unit\n",
    "    unit_df = record_counts[record_counts['Unit'] == unit]\n",
    "\n",
    "    # Plotting logic for individual unit\n",
    "    plot_run_chart_logic(unit_df)\n",
    "\n",
    "def plot_combined_run_chart(record_counts, frequency):\n",
    "    \"\"\"\n",
    "    Plot the combined run chart for all units.\n",
    "    \"\"\"\n",
    "    plt.figure(figsize=(12, 6))\n",
    "    plt.title(f\"Combined Run Chart for All Units - {frequency} Frequency\")\n",
    "\n",
    "    # Calculating the overall average for 'Patient' and 'Visitor' across all units\n",
    "    combined_df = record_counts.groupby(['Date', 'Type'])['Record Count'].sum().reset_index()\n",
    "\n",
    "    # Plotting logic for combined chart\n",
    "    plot_run_chart_logic(combined_df)\n",
    "\n",
    "def plot_run_chart_logic(df):\n",
    "    \"\"\"\n",
    "    Shared plotting logic for run charts.\n",
    "    \"\"\"\n",
    "    # Creating separate dataframes for 'Patient' and 'Visitor'\n",
    "    patient_df = df[df['Type'] == 'Patient']\n",
    "    visitor_df = df[df['Type'] == 'Visitor']\n",
    "\n",
    "    patient_color = '#00727C'\n",
    "    visitor_color = '#9ED9D1'\n",
    "    \n",
    "    # Plotting 'Patient' scores\n",
    "    plt.plot(patient_df['Date'], patient_df['Record Count'], label='Patient', marker='o', linestyle='-', color=patient_color)\n",
    "\n",
    "    # Plotting 'Visitor' scores if available\n",
    "    if not visitor_df.empty:\n",
    "        plt.plot(visitor_df['Date'], visitor_df['Record Count'], label='Visitor', marker='x', linestyle='-', color=visitor_color)\n",
    "\n",
    "    # Formatting the x-axis to display the month\n",
    "    plt.gca().xaxis.set_major_formatter(mdates.DateFormatter('%b %Y'))\n",
    "    plt.gca().xaxis.set_major_locator(mdates.MonthLocator())\n",
    "\n",
    "    plt.xlabel('Date')\n",
    "    plt.ylabel('Completed Surveys')\n",
    "    plt.legend()\n",
    "    plt.grid(True)\n",
    "    plt.xticks(rotation=45)\n",
    "    plt.ylim(0, 120)\n",
    "    plt.show()"
   ]
  },
  {
   "cell_type": "code",
   "execution_count": 4,
   "id": "1edd8566-6a55-4424-bbd6-a1f122c16ca9",
   "metadata": {},
   "outputs": [],
   "source": [
    "frequency_widget = widgets.Dropdown(\n",
    "    options=['Weekly', 'Monthly', 'Quarterly'],\n",
    "    value='Weekly',\n",
    "    description='Frequency:',\n",
    ")"
   ]
  },
  {
   "cell_type": "code",
   "execution_count": 5,
   "id": "c6d36d9f-7484-4afe-a1c6-a8b7f3e760a9",
   "metadata": {},
   "outputs": [],
   "source": [
    "# Function to update visualizations\n",
    "def update_visualizations(frequency):\n",
    "    # Load and preprocess the data (to be implemented)\n",
    "    df = pd.read_csv('cleaned_survey.csv')\n",
    "\n",
    "    # Plot run charts\n",
    "    plot_run_charts(df, frequency)"
   ]
  },
  {
   "cell_type": "code",
   "execution_count": 6,
   "id": "ac6680d6-2881-44ff-a591-1c1f648b9de4",
   "metadata": {},
   "outputs": [
    {
     "data": {
      "application/vnd.jupyter.widget-view+json": {
       "model_id": "6462d6054980460ea1e854d26d91b51c",
       "version_major": 2,
       "version_minor": 0
      },
      "text/plain": [
       "interactive(children=(Dropdown(description='Frequency:', options=('Weekly', 'Monthly', 'Quarterly'), value='We…"
      ]
     },
     "metadata": {},
     "output_type": "display_data"
    },
    {
     "data": {
      "text/plain": [
       "<function __main__.update_visualizations(frequency)>"
      ]
     },
     "execution_count": 6,
     "metadata": {},
     "output_type": "execute_result"
    }
   ],
   "source": [
    "# Display the interactive widget\n",
    "interact_manual(update_visualizations, frequency=frequency_widget)"
   ]
  },
  {
   "cell_type": "code",
   "execution_count": null,
   "id": "361b0cac-e98a-4141-a8eb-0fb76b1efe3b",
   "metadata": {},
   "outputs": [],
   "source": []
  }
 ],
 "metadata": {
  "kernelspec": {
   "display_name": "Python 3 (ipykernel)",
   "language": "python",
   "name": "python3"
  },
  "language_info": {
   "codemirror_mode": {
    "name": "ipython",
    "version": 3
   },
   "file_extension": ".py",
   "mimetype": "text/x-python",
   "name": "python",
   "nbconvert_exporter": "python",
   "pygments_lexer": "ipython3",
   "version": "3.11.9"
  }
 },
 "nbformat": 4,
 "nbformat_minor": 5
}
