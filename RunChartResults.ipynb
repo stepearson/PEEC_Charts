{
 "cells": [
  {
   "cell_type": "code",
   "execution_count": 1,
   "id": "1c96a546-03d8-40e2-af04-36daaebb655c",
   "metadata": {},
   "outputs": [],
   "source": [
    "# Code Template for the New Notebook to Create Run Charts\n",
    "\n",
    "# Importing necessary libraries\n",
    "import pandas as pd\n",
    "import matplotlib.pyplot as plt\n",
    "import matplotlib.dates as mdates\n",
    "import seaborn as sns\n",
    "import numpy as np\n",
    "import ipywidgets as widgets\n",
    "from ipywidgets import interact_manual\n",
    "\n"
   ]
  },
  {
   "cell_type": "code",
   "execution_count": 2,
   "id": "2338f12b-002e-459b-adae-99653e55a09d",
   "metadata": {},
   "outputs": [],
   "source": [
    "def calculate_average_scores(df, frequency):\n",
    "    \"\"\"\n",
    "    Calculate average scores based on the given frequency.\n",
    "    Weekly frequency starts every Monday, Monthly on the 1st of each month, \n",
    "    and Quarterly starting from the 1st of January, April, July, and October.\n",
    "    \"\"\"\n",
    "    # Ensure 'Date' is a datetime type\n",
    "    df['Date'] = pd.to_datetime(df['Date'])\n",
    "\n",
    "    # Group by 'Unit', 'Type', and resample based on frequency, then calculate mean of 'Average Score'\n",
    "    if frequency == 'Weekly':\n",
    "        resampled_df = df.set_index('Date').groupby(['Unit', 'Type']).resample('W-MON')['Average Score'].mean().reset_index()\n",
    "    elif frequency == 'Monthly':\n",
    "        resampled_df = df.set_index('Date').groupby(['Unit', 'Type']).resample('MS')['Average Score'].mean().reset_index()\n",
    "    elif frequency == 'Quarterly':\n",
    "        resampled_df = df.set_index('Date').groupby(['Unit', 'Type']).resample('QS-JAN')['Average Score'].mean().reset_index()\n",
    "\n",
    "    # Convert the average scores from out of 100 to out of 5\n",
    "    resampled_df['Average Score'] = resampled_df['Average Score'] / 20\n",
    "\n",
    "    return resampled_df"
   ]
  },
  {
   "cell_type": "code",
   "execution_count": 3,
   "id": "d198947a-a494-4d8c-8b59-1d70a7470d22",
   "metadata": {},
   "outputs": [],
   "source": [
    "def plot_run_charts(df, frequency):\n",
    "    \"\"\"\n",
    "    Plot run charts for each unit and an overall combined chart.\n",
    "    The combined chart will display the average scores aggregated from all units for 'Patient' and 'Visitor'.\n",
    "    \"\"\"\n",
    "    # Calculate average scores based on frequency\n",
    "    avg_scores = calculate_average_scores(df, frequency)\n",
    "\n",
    "    # List of unique units\n",
    "    units = df['Unit'].unique().tolist()\n",
    "\n",
    "    # Plot for each unit\n",
    "    for unit in units:\n",
    "        plot_individual_run_chart(unit, avg_scores, frequency)\n",
    "\n",
    "    # Plot the combined chart\n",
    "    plot_combined_run_chart(avg_scores, frequency)\n",
    "\n",
    "def plot_individual_run_chart(unit, avg_scores, frequency):\n",
    "    \"\"\"\n",
    "    Plot run chart for an individual unit.\n",
    "    \"\"\"\n",
    "    plt.figure(figsize=(12, 6))\n",
    "    plt.title(f\"Run Chart for {unit} - {frequency} Frequency\")\n",
    "    \n",
    "    # Filtering data for the current unit\n",
    "    unit_df = avg_scores[avg_scores['Unit'] == unit]\n",
    "\n",
    "    # Plotting logic for individual unit\n",
    "    plot_run_chart_logic(unit_df)\n",
    "\n",
    "def plot_combined_run_chart(avg_scores, frequency):\n",
    "    \"\"\"\n",
    "    Plot the combined run chart for all units.\n",
    "    \"\"\"\n",
    "    plt.figure(figsize=(12, 6))\n",
    "    plt.title(f\"Combined Run Chart for All Units - {frequency} Frequency\")\n",
    "\n",
    "    # Calculating the overall average for 'Patient' and 'Visitor' across all units\n",
    "    combined_df = avg_scores.groupby(['Date', 'Type'])['Average Score'].mean().reset_index()\n",
    "\n",
    "    # Plotting logic for combined chart\n",
    "    plot_run_chart_logic(combined_df)\n",
    "\n",
    "def plot_run_chart_logic(df):\n",
    "    \"\"\"\n",
    "    Shared plotting logic for run charts.\n",
    "    \"\"\"\n",
    "    # Creating separate dataframes for 'Patient' and 'Visitor'\n",
    "    patient_df = df[df['Type'] == 'Patient']\n",
    "    visitor_df = df[df['Type'] == 'Visitor']\n",
    "\n",
    "    patient_color = '#00727C'\n",
    "    visitor_color = '#9ED9D1'\n",
    "    \n",
    "    # Plotting 'Patient' scores\n",
    "    plt.plot(patient_df['Date'], patient_df['Average Score'], label='Patient', marker='o', linestyle='-', color=patient_color)\n",
    "\n",
    "    # Plotting 'Visitor' scores if available\n",
    "    if not visitor_df.empty:\n",
    "        plt.plot(visitor_df['Date'], visitor_df['Average Score'], label='Visitor', marker='x', linestyle='-', color=visitor_color)\n",
    "\n",
    "    # Formatting the x-axis to display the month\n",
    "    plt.gca().xaxis.set_major_formatter(mdates.DateFormatter('%b %Y'))\n",
    "    plt.gca().xaxis.set_major_locator(mdates.MonthLocator())\n",
    "\n",
    "    plt.xlabel('Date')\n",
    "    plt.ylabel('Average Score')\n",
    "    plt.legend()\n",
    "    plt.grid(True)\n",
    "    plt.xticks(rotation=45)\n",
    "    plt.ylim(0,5.3)\n",
    "    plt.show()\n",
    "\n",
    "# Usage: Call plot_run_charts with the DataFrame and desired frequency\n",
    "# plot_run_charts(df, 'Weekly') for example\n"
   ]
  },
  {
   "cell_type": "code",
   "execution_count": 4,
   "id": "f809cb79-a38c-490b-8e12-f5a272d6b6eb",
   "metadata": {},
   "outputs": [],
   "source": [
    "# Interactive Widgets\n",
    "frequency_widget = widgets.Dropdown(\n",
    "    options=['Weekly', 'Monthly', 'Quarterly'],\n",
    "    value='Weekly',\n",
    "    description='Frequency:',\n",
    ")"
   ]
  },
  {
   "cell_type": "code",
   "execution_count": 5,
   "id": "084f42b8-d239-4a1b-97cc-a0cb28e73c76",
   "metadata": {},
   "outputs": [],
   "source": [
    "# Function to update visualizations\n",
    "def update_visualizations(frequency):\n",
    "    # Load and preprocess the data (to be implemented)\n",
    "    df = pd.read_csv('cleaned_survey.csv')\n",
    "\n",
    "    # Plot run charts\n",
    "    plot_run_charts(df, frequency)\n",
    "\n"
   ]
  },
  {
   "cell_type": "code",
   "execution_count": 6,
   "id": "6fe4ecf8-1be1-4c92-a06d-04a2aebe19cf",
   "metadata": {
    "scrolled": true
   },
   "outputs": [
    {
     "data": {
      "application/vnd.jupyter.widget-view+json": {
       "model_id": "c02e1f26972f4a4aaa1a2201a2d835f2",
       "version_major": 2,
       "version_minor": 0
      },
      "text/plain": [
       "interactive(children=(Dropdown(description='Frequency:', options=('Weekly', 'Monthly', 'Quarterly'), value='We…"
      ]
     },
     "metadata": {},
     "output_type": "display_data"
    },
    {
     "data": {
      "text/plain": [
       "<function __main__.update_visualizations(frequency)>"
      ]
     },
     "execution_count": 6,
     "metadata": {},
     "output_type": "execute_result"
    }
   ],
   "source": [
    "# Display the interactive widget\n",
    "interact_manual(update_visualizations, frequency=frequency_widget)\n"
   ]
  }
 ],
 "metadata": {
  "kernelspec": {
   "display_name": "Python 3 (ipykernel)",
   "language": "python",
   "name": "python3"
  },
  "language_info": {
   "codemirror_mode": {
    "name": "ipython",
    "version": 3
   },
   "file_extension": ".py",
   "mimetype": "text/x-python",
   "name": "python",
   "nbconvert_exporter": "python",
   "pygments_lexer": "ipython3",
   "version": "3.11.9"
  }
 },
 "nbformat": 4,
 "nbformat_minor": 5
}
